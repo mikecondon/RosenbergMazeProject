{
 "cells": [
  {
   "cell_type": "markdown",
   "metadata": {},
   "source": [
    "# Markov Chain Analysis of Mouse Movement by Node\n",
    "Load unrewarded mouse trajectory data by node.\n",
    "Then overlay this on binary tree.\n",
    "Animate the mouse movement along this binary tree by timestep."
   ]
  },
  {
   "cell_type": "markdown",
   "metadata": {},
   "source": [
    "## Imports"
   ]
  },
  {
   "cell_type": "code",
   "execution_count": 17,
   "metadata": {},
   "outputs": [],
   "source": [
    "# Imports\n",
    "import pickle\n",
    "import numpy as np\n",
    "from matplotlib import pyplot as plt\n",
    "from matplotlib import patches\n",
    "from copy import deepcopy\n",
    "import plotly.graph_objects as go\n",
    "from scipy.optimize import curve_fit\n",
    "from dataclasses import make_dataclass\n",
    "from tree import *\n",
    "import rpy2.robjects as robjects\n",
    "from rpy2.robjects.packages import importr\n",
    "import pandas as pd\n",
    "from rpy2.robjects import pandas2ri\n",
    "pandas2ri.activate()\n",
    "\n",
    "# Import the 'bct' package from R\n",
    "bct = importr(\"BCT\")\n",
    "\n",
    "import sys\n",
    "module_path = 'code' \n",
    "if module_path not in sys.path:\n",
    "    sys.path.append(module_path)\n",
    "\n",
    "# Markus's code\n",
    "from MM_Plot_Utils import plot, hist\n",
    "from MM_Maze_Utils import *\n",
    "from MM_Traj_Utils import *\n",
    "\n",
    "%matplotlib inline\n",
    "%reload_ext autoreload\n",
    "%autoreload 2\n",
    "np.set_printoptions(threshold=np.inf)"
   ]
  },
  {
   "cell_type": "markdown",
   "metadata": {},
   "source": [
    "## Plan\n",
    "1. For a given unrewarded mouse, remove 20% of the trajectories, use the other 80% for training.\n",
    "2. Use `SplitModeClips` function to grab all explore clips from that mouse.\n",
    "3. Turn each of these clips into action clips where the actions are 0 for in-left, 1 for in-right, 2 for out. Concatenate these together with a `-1` symbol to indicate a reset to the start. \n",
    "4. Feed this time series into the BCT package in R to predict mouse movement, and then to find changepoints."
   ]
  },
  {
   "cell_type": "code",
   "execution_count": 18,
   "metadata": {},
   "outputs": [],
   "source": [
    "def ModeMask(tf,ma,re):\n",
    "    '''\n",
    "    Creates an array that parallels the bouts in tf giving the behavioral mode for every state\n",
    "    0=home,1=drink,2=explore\n",
    "    '''\n",
    "    cl=SplitModeClips(tf,ma,re) # split the trajectory into mode clips\n",
    "    # ex is just a list of [0,1,2] in the shape of tf.\n",
    "    ex=[np.zeros(len(b)) for b in tf.no]\n",
    "    # each entry in ex determines the mode of that state.\n",
    "    # its a time series too.\n",
    "    for c in cl: \n",
    "        ex[c[0]][c[1]:c[1]+c[2]]=c[3]\n",
    "    return ex"
   ]
  },
  {
   "cell_type": "code",
   "execution_count": 19,
   "metadata": {},
   "outputs": [],
   "source": [
    "def freqCalc(m, contexts, sequence):\n",
    "    '''\n",
    "    calculate probabilities for each action following \n",
    "    each context according to Dirichlet prior\n",
    "    '''\n",
    "    tree1 = Tree(m)\n",
    "    for con in contexts:\n",
    "        counts = np.zeros(m-1)\n",
    "        for i in range(len(con), len(sequence)):\n",
    "            substr = sequence[i-len(con):i]\n",
    "            if con[::-1] == substr:\n",
    "                action = int(sequence[i])\n",
    "                if action >= 3:\n",
    "                    action -= 1\n",
    "                counts[action] += 1\n",
    "\n",
    "        # theta follows Dirichlet(count+0.5)\n",
    "        tree1[con] = list((counts + 0.5) / (np.sum(counts) + (m-1)*0.5))\n",
    "    return tree1\n",
    "\n",
    "        "
   ]
  },
  {
   "cell_type": "code",
   "execution_count": 20,
   "metadata": {},
   "outputs": [],
   "source": [
    "def crossEntropy(sequence, pred, mask, d):\n",
    "    '''\n",
    "    applies the cross entropy to the truthful values in sequence with the predictions based \n",
    "    on the contexts in pred. This only applies to the indices indicated by mask.\n",
    "    sequence is the time series of actions\n",
    "    pred returns the list of probabilities given context\n",
    "    mask should be an array of bools\n",
    "    d is the required context length\n",
    "    '''\n",
    "    ce = 0\n",
    "    for i, mv in enumerate(mask):\n",
    "        if mv:\n",
    "            obs = int(sequence[i])\n",
    "            if obs == 3:\n",
    "                obs = 2\n",
    "            tree_prob = pred(sequence[i-d:i][::-1])[:3]\n",
    "            ce -= np.log(tree_prob)[obs] / np.log(2)\n",
    "    return ce / np.count_nonzero(mask)"
   ]
  },
  {
   "cell_type": "code",
   "execution_count": 21,
   "metadata": {},
   "outputs": [],
   "source": [
    "def Mouse2BCT(tf, nickname, ma,exp=True,rew=False,seg=5):\n",
    "    '''\n",
    "    Note this function only works for unrewarded animals\n",
    "    Fit is restricted to T-junctions not including 0\n",
    "    var = variable history depth?\n",
    "    tju = actions at T-junctions only?\n",
    "    exp = actions in \"explore\" mode only?\n",
    "    rew = animal rewarded (relevant only if exp==True)\n",
    "    seg = number of segments for testing\n",
    "    train = evaluate on the training data?\n",
    "    '''\n",
    "    if exp:\n",
    "        ex = ModeMask(tf,ma,rew)\n",
    "    # create tf_no to include only states in the explore mode and only \n",
    "    # bouts with len>1\n",
    "    tf_no = []\n",
    "    for bout_mask, bout in zip(ex, tf.no):\n",
    "        if len(bout[:-1,0]) > 1:\n",
    "            tf_no.append(bout[np.where(bout_mask[:-1]==2)[0]])\n",
    "\n",
    "    # on each iteration, 1/seg is chosen as the test. So each time training on 80%.\n",
    "    # and evaluating on a different 20%\n",
    "    ce = 0\n",
    "    D = 10\n",
    "    m=6\n",
    "    for i in range(seg):\n",
    "        # append together the bouts with 128 as a delimiter. should give you one train state list \n",
    "        # and one test state list.\n",
    "        dte = np.concatenate([[128]+b[:,0].tolist() for b in tf_no[i::seg]]+[[128]])\n",
    "        dtr = np.concatenate([[128]+b[:,0].tolist() for j in range(seg) for b in tf_no[j::seg] if j!=i]+[[128]])\n",
    "\n",
    "        # turn the state lists into action strings\n",
    "        ate = ActionString(dte, ma)\n",
    "        atr = ActionString(dtr, ma)\n",
    "        \n",
    "        # create BCT using R based on atr, then validate cross entropy on ate\n",
    "        result = bct.BCT(atr, D)\n",
    "        contexts = list(result.rx2(\"Contexts\"))\n",
    "    \n",
    "        bctree = freqCalc(m, contexts, atr)\n",
    "\n",
    "        if nickname=='D7' and i==0:\n",
    "            bctree.draw(10, \"tree_plot.txt\")\n",
    "\n",
    "        test_arr = np.array(list(map(int, ate)))\n",
    "        mask = np.ones(len(test_arr))\n",
    "        mask[:D] = 0\n",
    "        mask[test_arr==4] = 0\n",
    "        mask[test_arr==5] = 0\n",
    "        # using predictions as parameterised above but conditioning that only\n",
    "        # actions 0,1,2 can occur.\n",
    "        pred = lambda x: bctree[x].p((3, 4))\n",
    "        ce1 = crossEntropy(test_arr, pred, mask, D)\n",
    "        ce += ce1\n",
    "    return ce / seg\n",
    "    \n",
    "        \n",
    "\n",
    "def ActionString(traj, ma):\n",
    "    '''\n",
    "    This takes a concatenated array of node states, where 128 corresponds to \n",
    "    the delimiter between bouts, and runs StepType4 on it\n",
    "    '''\n",
    "    astr = []\n",
    "    for i in range(1, len(traj)):\n",
    "        # Do not want to count entry and exit from bout twice, so ignoring\n",
    "        # when action is None\n",
    "        action = StepType4(int(traj[i-1]), int(traj[i]), ma)\n",
    "        if action != None:\n",
    "            astr.append(action)\n",
    "    return ''.join(map(str, astr))"
   ]
  },
  {
   "cell_type": "code",
   "execution_count": 22,
   "metadata": {},
   "outputs": [
    {
     "name": "stdout",
     "output_type": "stream",
     "text": [
      "average is 1.3204 bits for mouse B5\n",
      "average is 1.2944 bits for mouse B6\n",
      "average is 1.3248 bits for mouse B7\n",
      "average is 1.3162 bits for mouse D3\n",
      "average is 1.2564 bits for mouse D4\n",
      "average is 1.3074 bits for mouse D5\n",
      "average is 1.2288 bits for mouse D7\n",
      "average is 1.3009 bits for mouse D8\n",
      "average is 1.3502 bits for mouse D9\n",
      "The total average is 1.2999 bits\n"
     ]
    }
   ],
   "source": [
    "exp = True # evaluate only during exploration?\n",
    "seg = 5 # = number of segments to split the data, use one for testing, the others for training\n",
    "ma = NewMaze(6)\n",
    "UnrewNamesSub = ['B5','B6','B7','D3','D4','D5','D7','D8','D9'] \n",
    "# UnrewNamesSub = ['D7'] \n",
    "Names = UnrewNamesSub\n",
    "rew = False\n",
    "\n",
    "total_avg = 0\n",
    "for nickname in UnrewNamesSub:\n",
    "    tf = LoadTraj(f'{nickname}-tf')\n",
    "    ce = Mouse2BCT(tf, nickname, ma, exp, rew, seg)\n",
    "    total_avg += ce\n",
    "    print(f\"average is {ce:.4f} bits for mouse {nickname}\")\n",
    "print(f\"The total average is {total_avg / len(UnrewNamesSub):.4f} bits\")"
   ]
  },
  {
   "cell_type": "markdown",
   "metadata": {},
   "source": [
    "Given a action string, reconstruct the bout. Also create a function for prediction from the Context generated by BCT in R. This should supply probabilities."
   ]
  },
  {
   "cell_type": "code",
   "execution_count": 23,
   "metadata": {},
   "outputs": [],
   "source": [
    "sim_traj = [0]*9+[3]"
   ]
  },
  {
   "cell_type": "code",
   "execution_count": 24,
   "metadata": {},
   "outputs": [
    {
     "ename": "TypeError",
     "evalue": "freqCalc() takes 3 positional arguments but 4 were given",
     "output_type": "error",
     "traceback": [
      "\u001b[0;31m---------------------------------------------------------------------------\u001b[0m",
      "\u001b[0;31mTypeError\u001b[0m                                 Traceback (most recent call last)",
      "Cell \u001b[0;32mIn[24], line 8\u001b[0m\n\u001b[1;32m      5\u001b[0m \u001b[38;5;28;01mwith\u001b[39;00m \u001b[38;5;28mopen\u001b[39m(con_addr, \u001b[38;5;124m'\u001b[39m\u001b[38;5;124mr\u001b[39m\u001b[38;5;124m'\u001b[39m) \u001b[38;5;28;01mas\u001b[39;00m g:\n\u001b[1;32m      6\u001b[0m     contexts \u001b[38;5;241m=\u001b[39m [con\u001b[38;5;241m.\u001b[39mstrip() \u001b[38;5;28;01mfor\u001b[39;00m con \u001b[38;5;129;01min\u001b[39;00m g\u001b[38;5;241m.\u001b[39mreadlines()]\n\u001b[0;32m----> 8\u001b[0m tree2 \u001b[38;5;241m=\u001b[39m \u001b[43mfreqCalc\u001b[49m\u001b[43m(\u001b[49m\u001b[38;5;241;43m5\u001b[39;49m\u001b[43m,\u001b[49m\u001b[43m \u001b[49m\u001b[38;5;241;43m10\u001b[39;49m\u001b[43m,\u001b[49m\u001b[43m \u001b[49m\u001b[43mcontexts\u001b[49m\u001b[43m,\u001b[49m\u001b[43m \u001b[49m\u001b[43mseq\u001b[49m\u001b[43m)\u001b[49m\n",
      "\u001b[0;31mTypeError\u001b[0m: freqCalc() takes 3 positional arguments but 4 were given"
     ]
    }
   ],
   "source": [
    "seq_addr = '/Users/michaelcondon/workspaces/pbm_group1/BCT_strings/D7_tf_1.txt'\n",
    "con_addr = '/Users/michaelcondon/workspaces/pbm_group1/Rosenberg-2021-Repository/tree_models/d7_model_0.csv'\n",
    "with open(seq_addr, 'r') as f:\n",
    "    seq = f.read().strip()\n",
    "with open(con_addr, 'r') as g:\n",
    "    contexts = [con.strip() for con in g.readlines()]\n",
    "    \n",
    "tree2 = freqCalc(5, 10, contexts, seq)"
   ]
  },
  {
   "cell_type": "code",
   "execution_count": 25,
   "metadata": {},
   "outputs": [
    {
     "name": "stdout",
     "output_type": "stream",
     "text": [
      "216\n",
      "411020101515052015210515051530051505230105301505200522210105150505153005150505221105153015052015210515330015051521051505050530150522330010151521051505301505201523010530150522013221101521053015052133010515301505223233\n",
      "[[0, -1, -1, -1, 0, -1, 0, 2, 6, 14, 25, 51, 108, -1, -5, -3, -4, -6, -6, -4, -6, -11, -25, -49, -101, -200, -394, -786, -1566], [0, 1, 3, 3, 7, 20, 41, 88, 43], [0, 1, 4, 9, 24], [0, 1, 4, 14, 30, 66, 32, 66, -1, -5, -3, -2, -2, -2, -3, -5, -8, -10, -18, -30, -59, -121, -240, -474, -946, -1886], [0, 1, 3, 3, 7, 20, 41, 88, -1, -5, -3, -2, -2, -2, -3, -9, -17, -37], [0, 1, 4, 14, 30, 66, 32, 66, -1, -5, -3, -5, -8, -10, -18, -30], [0], [0, 1, 3, 7, 20, 41, 88, -1, -5, -3, -5, -8, -10, -18, -30, -59, -121, -240, -474, -947, -1897], [0, 1, 4, 14, 30, 66, 32, 15], [0], [0, 1, 3, 7, 15, 31, 68, -1, -5, -3, -5, -8, -10, -18, -30, -59, -121], [0, 1, 4, 14, 30, 66, 32, 66, -1, -5, -3], [0, 1, 4, 9, 24], [0, 1, 4, 14, 30, 66, 32, 15, 32, 65], [0, -1, -1, -1, -1, 0, 2, 1, 0, 2, 6, 18], [0, 1, 4, 14, 30, 66, 32, 65], [0], [0, 1, 4, 9, 24, 50, 97], [0, 1, 4, 14, 30, 66, 32, 15], [0, -1]]\n"
     ]
    }
   ],
   "source": [
    "d7_tf = LoadTraj('d7-tf')\n",
    "print(len(d7_tf.no[1][:,0]))\n",
    "ma = NewMaze(6)\n",
    "actStr = ActionString(np.concatenate(([128], d7_tf.no[1][:,0])), ma)\n",
    "print(actStr)\n",
    "print(Action2Node(actStr))\n"
   ]
  },
  {
   "cell_type": "code",
   "execution_count": 26,
   "metadata": {},
   "outputs": [
    {
     "ename": "NameError",
     "evalue": "name 'tree2' is not defined",
     "output_type": "error",
     "traceback": [
      "\u001b[0;31m---------------------------------------------------------------------------\u001b[0m",
      "\u001b[0;31mNameError\u001b[0m                                 Traceback (most recent call last)",
      "Cell \u001b[0;32mIn[26], line 13\u001b[0m\n\u001b[1;32m      9\u001b[0m \u001b[38;5;66;03m# prediction function returns the probabilities conditional on\u001b[39;00m\n\u001b[1;32m     10\u001b[0m \u001b[38;5;66;03m# 3 and 4 not occurring\u001b[39;00m\n\u001b[1;32m     11\u001b[0m pred \u001b[38;5;241m=\u001b[39m \u001b[38;5;28;01mlambda\u001b[39;00m x: tree2[x]\u001b[38;5;241m.\u001b[39mp((\u001b[38;5;241m3\u001b[39m, \u001b[38;5;241m4\u001b[39m))\n\u001b[0;32m---> 13\u001b[0m \u001b[43mcrossEntropy\u001b[49m\u001b[43m(\u001b[49m\u001b[43mtest_seq\u001b[49m\u001b[43m,\u001b[49m\u001b[43m \u001b[49m\u001b[43mpred\u001b[49m\u001b[43m,\u001b[49m\u001b[43m \u001b[49m\u001b[43mmask\u001b[49m\u001b[43m,\u001b[49m\u001b[43m \u001b[49m\u001b[38;5;241;43m10\u001b[39;49m\u001b[43m)\u001b[49m\n",
      "Cell \u001b[0;32mIn[20], line 16\u001b[0m, in \u001b[0;36mcrossEntropy\u001b[0;34m(sequence, pred, mask, d)\u001b[0m\n\u001b[1;32m     14\u001b[0m         \u001b[38;5;28;01mif\u001b[39;00m obs \u001b[38;5;241m==\u001b[39m \u001b[38;5;241m3\u001b[39m:\n\u001b[1;32m     15\u001b[0m             obs \u001b[38;5;241m=\u001b[39m \u001b[38;5;241m2\u001b[39m\n\u001b[0;32m---> 16\u001b[0m         tree_prob \u001b[38;5;241m=\u001b[39m \u001b[43mpred\u001b[49m\u001b[43m(\u001b[49m\u001b[43msequence\u001b[49m\u001b[43m[\u001b[49m\u001b[43mi\u001b[49m\u001b[38;5;241;43m-\u001b[39;49m\u001b[43md\u001b[49m\u001b[43m:\u001b[49m\u001b[43mi\u001b[49m\u001b[43m]\u001b[49m\u001b[43m[\u001b[49m\u001b[43m:\u001b[49m\u001b[43m:\u001b[49m\u001b[38;5;241;43m-\u001b[39;49m\u001b[38;5;241;43m1\u001b[39;49m\u001b[43m]\u001b[49m\u001b[43m)\u001b[49m[:\u001b[38;5;241m3\u001b[39m]\n\u001b[1;32m     17\u001b[0m         ce \u001b[38;5;241m-\u001b[39m\u001b[38;5;241m=\u001b[39m np\u001b[38;5;241m.\u001b[39mlog(tree_prob)[obs] \u001b[38;5;241m/\u001b[39m np\u001b[38;5;241m.\u001b[39mlog(\u001b[38;5;241m2\u001b[39m)\n\u001b[1;32m     18\u001b[0m \u001b[38;5;28;01mreturn\u001b[39;00m ce \u001b[38;5;241m/\u001b[39m np\u001b[38;5;241m.\u001b[39mcount_nonzero(mask)\n",
      "Cell \u001b[0;32mIn[26], line 11\u001b[0m, in \u001b[0;36m<lambda>\u001b[0;34m(x)\u001b[0m\n\u001b[1;32m      7\u001b[0m mask[np\u001b[38;5;241m.\u001b[39mwhere(test_arr\u001b[38;5;241m==\u001b[39m\u001b[38;5;241m4\u001b[39m)] \u001b[38;5;241m=\u001b[39m \u001b[38;5;241m0\u001b[39m\n\u001b[1;32m      9\u001b[0m \u001b[38;5;66;03m# prediction function returns the probabilities conditional on\u001b[39;00m\n\u001b[1;32m     10\u001b[0m \u001b[38;5;66;03m# 3 and 4 not occurring\u001b[39;00m\n\u001b[0;32m---> 11\u001b[0m pred \u001b[38;5;241m=\u001b[39m \u001b[38;5;28;01mlambda\u001b[39;00m x: \u001b[43mtree2\u001b[49m[x]\u001b[38;5;241m.\u001b[39mp((\u001b[38;5;241m3\u001b[39m, \u001b[38;5;241m4\u001b[39m))\n\u001b[1;32m     13\u001b[0m crossEntropy(test_seq, pred, mask, \u001b[38;5;241m10\u001b[39m)\n",
      "\u001b[0;31mNameError\u001b[0m: name 'tree2' is not defined"
     ]
    }
   ],
   "source": [
    "\n",
    "test_seq = '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'\n",
    "D=10\n",
    "test_arr = np.array(list(map(int, test_seq)))\n",
    "mask = np.ones(len(test_seq))\n",
    "mask[:D] = 0\n",
    "mask[np.where(test_arr==3)] = 0\n",
    "mask[np.where(test_arr==4)] = 0\n",
    "\n",
    "# prediction function returns the probabilities conditional on\n",
    "# 3 and 4 not occurring\n",
    "pred = lambda x: tree2[x].p((3, 4))\n",
    "\n",
    "crossEntropy(test_seq, pred, mask, 10)\n"
   ]
  },
  {
   "cell_type": "markdown",
   "metadata": {},
   "source": [
    "## Finding Cross entropy\n",
    "Each mouse will have 5 train and test strings (one for each split). Each train string will be a concatenation of all of the mouse's bouts minus one fifth of the bouts. These are removed for testing. I will use the R package BCT to parameterise a variable memory markov chain for prediction based on each training string. These will be evaluated with cross entropy loss on the corresponding test string. \n",
    "\n",
    "I'll also look at what is being recognised by each BCT, eg the length of particular contexts, maybe AIC etc. I'll argue that BCT is more realistic than Markov chains from the paper"
   ]
  },
  {
   "cell_type": "code",
   "execution_count": 27,
   "metadata": {},
   "outputs": [
    {
     "name": "stdout",
     "output_type": "stream",
     "text": [
      "7400 (array([0, 1, 2, 3, 4]), array([1878, 1862, 2297,   22, 1341]))\n",
      "10552 (array(['0', '1', '2', '3', '4'], dtype='<U1'), array([2854, 2569, 3097,   85, 1947]))\n"
     ]
    },
    {
     "data": {
      "text/plain": [
       "np.float64(1.3851636742505469)"
      ]
     },
     "execution_count": 27,
     "metadata": {},
     "output_type": "execute_result"
    }
   ],
   "source": [
    "print(len(test_arr), np.unique(test_arr, return_counts=True))\n",
    "print(len(seq), np.unique(list(seq), return_counts=True))\n",
    "\n",
    "arr1 = np.array([1878, 1862, 2297,   22, 1341]) / 7400\n",
    "\n",
    "-np.sum(arr1 * np.log(arr1))"
   ]
  },
  {
   "cell_type": "markdown",
   "metadata": {},
   "source": [
    "## Reward Change Point Detection\n",
    "Here, we apply Bayesian change point detection the verify if there is a change point, and how suddenly it occurs."
   ]
  },
  {
   "cell_type": "code",
   "execution_count": 28,
   "metadata": {},
   "outputs": [
    {
     "ename": "NameError",
     "evalue": "name 'data' is not defined",
     "output_type": "error",
     "traceback": [
      "\u001b[0;31m---------------------------------------------------------------------------\u001b[0m",
      "\u001b[0;31mNameError\u001b[0m                                 Traceback (most recent call last)",
      "Cell \u001b[0;32mIn[28], line 4\u001b[0m\n\u001b[1;32m      1\u001b[0m \u001b[38;5;28;01mfrom\u001b[39;00m\u001b[38;5;250m \u001b[39m\u001b[38;5;21;01mbayesian_changepoint_detection\u001b[39;00m\u001b[38;5;21;01m.\u001b[39;00m\u001b[38;5;21;01moffline_changepoint_detection\u001b[39;00m\u001b[38;5;250m \u001b[39m\u001b[38;5;28;01mimport\u001b[39;00m const_prior\n\u001b[1;32m      2\u001b[0m \u001b[38;5;28;01mfrom\u001b[39;00m\u001b[38;5;250m \u001b[39m\u001b[38;5;21;01mfunctools\u001b[39;00m\u001b[38;5;250m \u001b[39m\u001b[38;5;28;01mimport\u001b[39;00m partial\n\u001b[0;32m----> 4\u001b[0m prior_function \u001b[38;5;241m=\u001b[39m partial(const_prior, p\u001b[38;5;241m=\u001b[39m\u001b[38;5;241m1\u001b[39m\u001b[38;5;241m/\u001b[39m(\u001b[38;5;28mlen\u001b[39m(\u001b[43mdata\u001b[49m) \u001b[38;5;241m+\u001b[39m \u001b[38;5;241m1\u001b[39m))\n\u001b[1;32m      6\u001b[0m \u001b[38;5;28;01mfrom\u001b[39;00m\u001b[38;5;250m \u001b[39m\u001b[38;5;21;01mbayesian_changepoint_detection\u001b[39;00m\u001b[38;5;21;01m.\u001b[39;00m\u001b[38;5;21;01mbayesian_models\u001b[39;00m\u001b[38;5;250m \u001b[39m\u001b[38;5;28;01mimport\u001b[39;00m offline_changepoint_detection\n\u001b[1;32m      7\u001b[0m \u001b[38;5;28;01mimport\u001b[39;00m\u001b[38;5;250m \u001b[39m\u001b[38;5;21;01mbayesian_changepoint_detection\u001b[39;00m\u001b[38;5;21;01m.\u001b[39;00m\u001b[38;5;21;01moffline_likelihoods\u001b[39;00m\u001b[38;5;250m \u001b[39m\u001b[38;5;28;01mas\u001b[39;00m\u001b[38;5;250m \u001b[39m\u001b[38;5;21;01moffline_ll\u001b[39;00m\n",
      "\u001b[0;31mNameError\u001b[0m: name 'data' is not defined"
     ]
    }
   ],
   "source": [
    "from bayesian_changepoint_detection.offline_changepoint_detection import const_prior\n",
    "from functools import partial\n",
    "\n",
    "prior_function = partial(const_prior, p=1/(len(data) + 1))\n",
    "\n",
    "from bayesian_changepoint_detection.bayesian_models import offline_changepoint_detection\n",
    "import bayesian_changepoint_detection.offline_likelihoods as offline_ll\n",
    "\n",
    "Q, P, Pcp = offline_changepoint_detection(data, prior_function ,offline_ll.StudentT(),truncate=-40)\n",
    "\n",
    "fig, ax = plt.subplots(2, figsize=[18, 16], sharex=True)\n",
    "ax[0].plot(data[:])\n",
    "ax[1].plot(np.exp(Pcp).sum(0))"
   ]
  },
  {
   "cell_type": "code",
   "execution_count": 29,
   "metadata": {},
   "outputs": [
    {
     "name": "stdout",
     "output_type": "stream",
     "text": [
      "B1\n"
     ]
    },
    {
     "data": {
      "image/png": "[encoded data removed]",
      "text/plain": [
       "<Figure size 640x480 with 1 Axes>"
      ]
     },
     "metadata": {},
     "output_type": "display_data"
    }
   ],
   "source": [
    "nickname = 'B1'\n",
    "tf=LoadTraj(nickname+'-tf')\n",
    "# make array of reward times in frames\n",
    "re = np.array([y[0]+tf.fr[i,0] for i,r in enumerate(tf.re) for y in r])\n",
    "# plot cumulative long paths, rewards, time in maze\n",
    "ti=np.array(tf.fr.tolist()) # time in maze\n",
    "ptn_1 = FindPathsToNode(116,tf,ma) # water\n",
    "lmin=5 # minimal length\n",
    "ptn_m = ptn_1[np.where(ptn_1[:,2]>=lmin)] # impose minimal length\n",
    "\n",
    "x_water = [TimeInMaze(p,tf) for p in ptn_m[:,3]]\n",
    "y_water = np.arange(len(ptn_m))+1\n",
    "plt.step(x_water, y_water)\n",
    "\n",
    "\"\"\"x=[TimeInMaze(p,tf) for p in re]\n",
    "y=np.arange(len(re))+1\n",
    "plot(x,y,fmts=['g'],markersize=8,axes=ax,\n",
    "        xlabel='Time in maze (s)',\n",
    "        ylabel='Paths of length>={}'.format(lmin),\n",
    "        legend=['to water','to control nodes','rewards'],\n",
    "        xlim=[0,5000],ylim=[0,40]); # cumulative rewards\"\"\"\n",
    "plt.xlim(0, 5000)\n",
    "plt.ylim(0,40)\n",
    "print(nickname)\n",
    "plt.show()"
   ]
  },
  {
   "cell_type": "code",
   "execution_count": 33,
   "metadata": {},
   "outputs": [
    {
     "data": {
      "text/plain": [
       "(array([ 3.,  2.,  8., 15., 12., 20., 22., 17., 27., 10.]),\n",
       " array([ 858.8       , 1621.48666667, 2384.17333333, 3146.86      ,\n",
       "        3909.54666667, 4672.23333333, 5434.92      , 6197.60666667,\n",
       "        6960.29333333, 7722.98      , 8485.66666667]),\n",
       " <BarContainer object of 10 artists>)"
      ]
     },
     "execution_count": 33,
     "metadata": {},
     "output_type": "execute_result"
    },
    {
     "data": {
      "image/png": "[encoded data removed]",
      "text/plain": [
       "<Figure size 640x480 with 1 Axes>"
      ]
     },
     "metadata": {},
     "output_type": "display_data"
    }
   ],
   "source": [
    "lp_times = np.array([TimeInMaze(p,tf) for p in ptn_m[:,3]])\n",
    "plt.hist(lp_times)"
   ]
  },
  {
   "cell_type": "code",
   "execution_count": 66,
   "metadata": {},
   "outputs": [
    {
     "data": {
      "image/png": "[encoded data removed]",
      "text/plain": [
       "<Figure size 640x480 with 1 Axes>"
      ]
     },
     "metadata": {},
     "output_type": "display_data"
    },
    {
     "name": "stdout",
     "output_type": "stream",
     "text": [
      "171\n"
     ]
    }
   ],
   "source": [
    "w = 50  # desired bin width\n",
    "bins = np.arange(0, max(lp_times) + w, w)\n",
    "plt.hist(lp_times, bins=bins, edgecolor='black')\n",
    "plt.show()\n",
    "print(len(bins))"
   ]
  },
  {
   "cell_type": "code",
   "execution_count": 81,
   "metadata": {},
   "outputs": [
    {
     "data": {
      "image/png": "[encoded data removed]",
      "text/plain": [
       "<Figure size 640x480 with 1 Axes>"
      ]
     },
     "metadata": {},
     "output_type": "display_data"
    },
    {
     "name": "stdout",
     "output_type": "stream",
     "text": [
      "0.8\n"
     ]
    }
   ],
   "source": [
    "bins = np.arange(0, max(lp_times) + w, w)\n",
    "lpn = len(bins)\n",
    "lph = np.histogram(lp_times, bins=bins)\n",
    "\n",
    "bin_edges = lph[1]\n",
    "bin_centers = (bin_edges[:-1] + bin_edges[1:]) / 2\n",
    "\n",
    "plt.bar(bin_centers, lph[0], width=w)\n",
    "plt.show()\n",
    "print(np.mean(lph[0]))"
   ]
  },
  {
   "cell_type": "code",
   "execution_count": 82,
   "metadata": {},
   "outputs": [
    {
     "data": {
      "image/png": "[encoded data removed]",
      "text/plain": [
       "<Figure size 640x480 with 1 Axes>"
      ]
     },
     "metadata": {},
     "output_type": "display_data"
    },
    {
     "data": {
      "image/png": "[encoded data removed]",
      "text/plain": [
       "<Figure size 640x480 with 1 Axes>"
      ]
     },
     "metadata": {},
     "output_type": "display_data"
    }
   ],
   "source": [
    "from bayes import *\n",
    "\n",
    "\n",
    "alpha, beta = 50, 100\n",
    "taus = np.zeros(lpn-4)\n",
    "for s in range(2, lpn-2):\n",
    "    taus[s-2] = P(1,s,lph,True, alpha=alpha, beta=beta) + P(s+1, lpn, lph, True, alpha=alpha, beta=beta) + np.log(6) - 3*np.log(lpn)+np.log(lpn-s)+np.log(lpn)+np.log(s-1)\n",
    "\n",
    "print(len(lph), len(taus))\n",
    "lmax = np.max(taus)\n",
    "lz = lmax + np.log(np.sum(np.exp(taus-lmax)))\n",
    "plt.plot(taus-lz)\n",
    "plt.show()\n",
    "\n",
    "plt.plot(np.exp(taus-lz))\n",
    "plt.ylim(0,1.2)\n",
    "plt.show()\n"
   ]
  },
  {
   "cell_type": "code",
   "execution_count": 65,
   "metadata": {},
   "outputs": [
    {
     "data": {
      "text/plain": [
       "(array([2, 0, 0, 0, 0, 0, 0, 0, 1, 0, 0, 0, 0, 0, 0, 0, 0, 0, 0, 0, 2, 0,\n",
       "        0, 0, 0, 0, 0, 0, 0, 0, 0, 0, 0, 0, 1, 1, 1, 0, 1, 0, 0, 1, 1, 1,\n",
       "        0, 1, 1, 1, 0, 0, 2, 1, 1, 1, 0, 1, 1, 1, 1, 1, 2, 1, 1, 0, 0, 0,\n",
       "        1, 1, 1, 1, 1, 2, 1, 1, 0, 1, 1, 2, 1, 1, 2, 2, 0, 2, 2, 0, 1, 2,\n",
       "        2, 1, 0, 1, 2, 3, 2, 2, 1, 1, 2, 1, 2, 1, 0, 1, 1, 1, 2, 1, 2, 1,\n",
       "        1, 1, 0, 2, 0, 1, 1, 0, 2, 2, 1, 1, 2, 2, 3, 2, 2, 2, 1, 2, 3, 2,\n",
       "        2, 0, 1, 2, 0, 1, 2, 1, 1, 1, 0, 0, 1, 0, 0, 0, 1, 1, 0, 1, 1, 2]),\n",
       " array([ 858.8       ,  908.32510823,  957.85021645, 1007.37532468,\n",
       "        1056.9004329 , 1106.42554113, 1155.95064935, 1205.47575758,\n",
       "        1255.0008658 , 1304.52597403, 1354.05108225, 1403.57619048,\n",
       "        1453.1012987 , 1502.62640693, 1552.15151515, 1601.67662338,\n",
       "        1651.2017316 , 1700.72683983, 1750.25194805, 1799.77705628,\n",
       "        1849.3021645 , 1898.82727273, 1948.35238095, 1997.87748918,\n",
       "        2047.4025974 , 2096.92770563, 2146.45281385, 2195.97792208,\n",
       "        2245.5030303 , 2295.02813853, 2344.55324675, 2394.07835498,\n",
       "        2443.6034632 , 2493.12857143, 2542.65367965, 2592.17878788,\n",
       "        2641.7038961 , 2691.22900433, 2740.75411255, 2790.27922078,\n",
       "        2839.804329  , 2889.32943723, 2938.85454545, 2988.37965368,\n",
       "        3037.9047619 , 3087.42987013, 3136.95497835, 3186.48008658,\n",
       "        3236.00519481, 3285.53030303, 3335.05541126, 3384.58051948,\n",
       "        3434.10562771, 3483.63073593, 3533.15584416, 3582.68095238,\n",
       "        3632.20606061, 3681.73116883, 3731.25627706, 3780.78138528,\n",
       "        3830.30649351, 3879.83160173, 3929.35670996, 3978.88181818,\n",
       "        4028.40692641, 4077.93203463, 4127.45714286, 4176.98225108,\n",
       "        4226.50735931, 4276.03246753, 4325.55757576, 4375.08268398,\n",
       "        4424.60779221, 4474.13290043, 4523.65800866, 4573.18311688,\n",
       "        4622.70822511, 4672.23333333, 4721.75844156, 4771.28354978,\n",
       "        4820.80865801, 4870.33376623, 4919.85887446, 4969.38398268,\n",
       "        5018.90909091, 5068.43419913, 5117.95930736, 5167.48441558,\n",
       "        5217.00952381, 5266.53463203, 5316.05974026, 5365.58484848,\n",
       "        5415.10995671, 5464.63506494, 5514.16017316, 5563.68528139,\n",
       "        5613.21038961, 5662.73549784, 5712.26060606, 5761.78571429,\n",
       "        5811.31082251, 5860.83593074, 5910.36103896, 5959.88614719,\n",
       "        6009.41125541, 6058.93636364, 6108.46147186, 6157.98658009,\n",
       "        6207.51168831, 6257.03679654, 6306.56190476, 6356.08701299,\n",
       "        6405.61212121, 6455.13722944, 6504.66233766, 6554.18744589,\n",
       "        6603.71255411, 6653.23766234, 6702.76277056, 6752.28787879,\n",
       "        6801.81298701, 6851.33809524, 6900.86320346, 6950.38831169,\n",
       "        6999.91341991, 7049.43852814, 7098.96363636, 7148.48874459,\n",
       "        7198.01385281, 7247.53896104, 7297.06406926, 7346.58917749,\n",
       "        7396.11428571, 7445.63939394, 7495.16450216, 7544.68961039,\n",
       "        7594.21471861, 7643.73982684, 7693.26493506, 7742.79004329,\n",
       "        7792.31515152, 7841.84025974, 7891.36536797, 7940.89047619,\n",
       "        7990.41558442, 8039.94069264, 8089.46580087, 8138.99090909,\n",
       "        8188.51601732, 8238.04112554, 8287.56623377, 8337.09134199,\n",
       "        8386.61645022, 8436.14155844, 8485.66666667]))"
      ]
     },
     "execution_count": 65,
     "metadata": {},
     "output_type": "execute_result"
    }
   ],
   "source": [
    "lph"
   ]
  }
 ],
 "metadata": {
  "kernelspec": {
   "display_name": ".venv",
   "language": "python",
   "name": "python3"
  },
  "language_info": {
   "codemirror_mode": {
    "name": "ipython",
    "version": 3
   },
   "file_extension": ".py",
   "mimetype": "text/x-python",
   "name": "python",
   "nbconvert_exporter": "python",
   "pygments_lexer": "ipython3",
   "version": "3.9.6"
  }
 },
 "nbformat": 4,
 "nbformat_minor": 2
}
